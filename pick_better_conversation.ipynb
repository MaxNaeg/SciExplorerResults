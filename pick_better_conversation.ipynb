{
 "cells": [
  {
   "cell_type": "markdown",
   "id": "85766962",
   "metadata": {},
   "source": [
    "# Example how to ask agent to ranke conversations"
   ]
  },
  {
   "cell_type": "code",
   "execution_count": 1,
   "id": "f16c9eb1",
   "metadata": {},
   "outputs": [],
   "source": [
    "%load_ext autoreload\n",
    "%autoreload 2\n",
    "import os\n",
    "from sciexplorer.analyze_conv_utils.comparer import compare_conversations\n"
   ]
  },
  {
   "cell_type": "code",
   "execution_count": 2,
   "id": "652340e7",
   "metadata": {},
   "outputs": [
    {
     "data": {
      "text/plain": [
       "['./mechanics_final_runs/model_discovery/ParticleIn2DGravity/chat_5c163670f748ea3028677cf277924485c474880ef8d70702308cb767f111d934_1',\n",
       " './mechanics_final_runs/model_discovery/ParticleIn2DGravity/chat_5c163670f748ea3028677cf277924485c474880ef8d70702308cb767f111d934_2',\n",
       " './mechanics_final_runs/model_discovery/ParticleIn2DGravity/chat_5c163670f748ea3028677cf277924485c474880ef8d70702308cb767f111d934_3',\n",
       " './mechanics_final_runs/model_discovery/ParticleIn2DGravity/chat_5c163670f748ea3028677cf277924485c474880ef8d70702308cb767f111d934_4',\n",
       " './mechanics_final_runs/model_discovery/ParticleIn2DGravity/chat_5c163670f748ea3028677cf277924485c474880ef8d70702308cb767f111d934_5']"
      ]
     },
     "execution_count": 2,
     "metadata": {},
     "output_type": "execute_result"
    }
   ],
   "source": [
    "contained_in_name = 'chat'\n",
    "output_folder = './mechanics_final_runs/model_discovery/ParticleIn2DGravity'\n",
    "paths = sorted([os.path.join(output_folder, f) for f in os.listdir(output_folder) if contained_in_name in f])\n",
    "paths"
   ]
  },
  {
   "cell_type": "code",
   "execution_count": 1,
   "id": "30c8eee5",
   "metadata": {},
   "outputs": [
    {
     "ename": "NameError",
     "evalue": "name 'compare_conversations' is not defined",
     "output_type": "error",
     "traceback": [
      "\u001b[31m---------------------------------------------------------------------------\u001b[39m",
      "\u001b[31mNameError\u001b[39m                                 Traceback (most recent call last)",
      "\u001b[36mCell\u001b[39m\u001b[36m \u001b[39m\u001b[32mIn[1]\u001b[39m\u001b[32m, line 1\u001b[39m\n\u001b[32m----> \u001b[39m\u001b[32m1\u001b[39m everything, answer_message, quality_str = \u001b[43mcompare_conversations\u001b[49m(\n\u001b[32m      2\u001b[39m     api_key= \u001b[33m'\u001b[39m\u001b[33m'\u001b[39m, \u001b[38;5;66;03m# insert your API key here\u001b[39;00m\n\u001b[32m      3\u001b[39m     base_url=\u001b[38;5;28;01mNone\u001b[39;00m,\n\u001b[32m      4\u001b[39m     model_name= \u001b[33m'\u001b[39m\u001b[33mgpt-5-2025-08-07\u001b[39m\u001b[33m'\u001b[39m,\n\u001b[32m      5\u001b[39m     exp_path_list=paths,\n\u001b[32m      6\u001b[39m     save_to_file=output_folder+\u001b[33m'\u001b[39m\u001b[33m/test_comparison\u001b[39m\u001b[33m'\u001b[39m,\n\u001b[32m      7\u001b[39m     response_api=\u001b[38;5;28;01mTrue\u001b[39;00m,\n\u001b[32m      8\u001b[39m     quality_measure = \u001b[33m\"\u001b[39m\u001b[33mR2\u001b[39m\u001b[33m\"\u001b[39m\n\u001b[32m      9\u001b[39m     )\n",
      "\u001b[31mNameError\u001b[39m: name 'compare_conversations' is not defined"
     ]
    }
   ],
   "source": [
    "everything, answer_message, quality_str = compare_conversations(\n",
    "    api_key= '', # insert your API key here\n",
    "    base_url=None,\n",
    "    model_name= 'gpt-5-2025-08-07',\n",
    "    exp_path_list=paths,\n",
    "    save_to_file=output_folder+'/test_comparison',\n",
    "    response_api=True,\n",
    "    quality_measure = \"R2\"\n",
    "    )"
   ]
  }
 ],
 "metadata": {
  "kernelspec": {
   "display_name": "sciexp2",
   "language": "python",
   "name": "python3"
  },
  "language_info": {
   "codemirror_mode": {
    "name": "ipython",
    "version": 3
   },
   "file_extension": ".py",
   "mimetype": "text/x-python",
   "name": "python",
   "nbconvert_exporter": "python",
   "pygments_lexer": "ipython3",
   "version": "3.12.11"
  }
 },
 "nbformat": 4,
 "nbformat_minor": 5
}
